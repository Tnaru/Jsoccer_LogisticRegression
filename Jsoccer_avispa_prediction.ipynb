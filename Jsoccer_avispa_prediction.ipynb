{
 "cells": [
  {
   "cell_type": "markdown",
   "id": "cloudy-panel",
   "metadata": {},
   "source": [
    "#  1.はじめに\n",
    "\n",
    "本ノートブックでは、jリーグに所属するプロサッカーチームであるアビスパ福岡の勝ち点（3:勝ち,1:引き分け,0:負け）を、予測するモデルの構築を行います。\n"
   ]
  },
  {
   "cell_type": "markdown",
   "id": "sized-bruce",
   "metadata": {},
   "source": [
    "# 2.データ収集"
   ]
  },
  {
   "cell_type": "code",
   "execution_count": 3,
   "id": "upper-enterprise",
   "metadata": {},
   "outputs": [
    {
     "name": "stderr",
     "output_type": "stream",
     "text": [
      "100%|██████████| 26/26 [00:46<00:00,  1.77s/it]\n"
     ]
    }
   ],
   "source": [
    "import time\n",
    "from tqdm import tqdm\n",
    "import numpy as np\n",
    "import pandas as pd\n",
    "\n",
    "game_data_list = []\n",
    "year_list = list(range(1996,2022,1))\n",
    "\n",
    "for year in tqdm(year_list):\n",
    "    time.sleep(1)\n",
    "    url = 'https://data.j-league.or.jp/SFMS01/search?competition_years='+str(year)+'&tv_relay_station_name='\n",
    "    game_data = pd.read_html(url)[0]\n",
    "    game_data_list.append(game_data)\n",
    "    \n",
    "game_data = pd.concat(game_data_list)"
   ]
  },
  {
   "cell_type": "markdown",
   "id": "meaning-mistake",
   "metadata": {},
   "source": [
    "# 3.データ前処理"
   ]
  },
  {
   "cell_type": "code",
   "execution_count": 94,
   "id": "surface-necessity",
   "metadata": {},
   "outputs": [
    {
     "name": "stderr",
     "output_type": "stream",
     "text": [
      "/Users/tsukamotonaru/opt/anaconda3/envs/sklearn-env/lib/python3.9/site-packages/pandas/core/strings/accessor.py:101: UserWarning: This pattern has match groups. To actually get the groups, use str.extract.\n",
      "  return func(self, *args, **kwargs)\n",
      "<ipython-input-94-0109ff5682b9>:10: SettingWithCopyWarning: \n",
      "A value is trying to be set on a copy of a slice from a DataFrame.\n",
      "Try using .loc[row_indexer,col_indexer] = value instead\n",
      "\n",
      "See the caveats in the documentation: https://pandas.pydata.org/pandas-docs/stable/user_guide/indexing.html#returning-a-view-versus-a-copy\n",
      "  F_game_data['大会'] = F_game_data[F_game_data['大会'].str.contains('Ｊ(１|２)')]['大会'].map(lambda x : x[:2])\n",
      "<ipython-input-94-0109ff5682b9>:14: SettingWithCopyWarning: \n",
      "A value is trying to be set on a copy of a slice from a DataFrame.\n",
      "Try using .loc[row_indexer,col_indexer] = value instead\n",
      "\n",
      "See the caveats in the documentation: https://pandas.pydata.org/pandas-docs/stable/user_guide/indexing.html#returning-a-view-versus-a-copy\n",
      "  F_game_data['H_or_A'] = F_game_data['ホーム'].map(lambda x : 'H' if x=='福岡' else 'A' )\n",
      "<ipython-input-94-0109ff5682b9>:33: SettingWithCopyWarning: \n",
      "A value is trying to be set on a copy of a slice from a DataFrame.\n",
      "Try using .loc[row_indexer,col_indexer] = value instead\n",
      "\n",
      "See the caveats in the documentation: https://pandas.pydata.org/pandas-docs/stable/user_guide/indexing.html#returning-a-view-versus-a-copy\n",
      "  F_game_data['勝ち点'] = F_game_data.apply(lambda x:func_score(x),axis=1)\n",
      "<ipython-input-94-0109ff5682b9>:36: SettingWithCopyWarning: \n",
      "A value is trying to be set on a copy of a slice from a DataFrame.\n",
      "Try using .loc[row_indexer,col_indexer] = value instead\n",
      "\n",
      "See the caveats in the documentation: https://pandas.pydata.org/pandas-docs/stable/user_guide/indexing.html#returning-a-view-versus-a-copy\n",
      "  F_game_data['試合月'] = F_game_data['試合日'].map(lambda x : str(x)[:2]).astype(int)\n"
     ]
    }
   ],
   "source": [
    "game_data = game_data.reset_index().drop('index',axis=1)\n",
    "\n",
    "#欠損値の削除\n",
    "game_data = game_data.dropna(how='any')\n",
    "\n",
    "#福岡の試合を抽出\n",
    "F_game_data = game_data[(game_data['ホーム']=='福岡')|(game_data['アウェイ']=='福岡')]\n",
    "\n",
    "#大会をJ1、J2のみにする\n",
    "F_game_data['大会'] = F_game_data[F_game_data['大会'].str.contains('Ｊ(１|２)')]['大会'].map(lambda x : x[:2])\n",
    "\n",
    "\n",
    "#福岡がホーム＆アウェイ状況\n",
    "F_game_data['H_or_A'] = F_game_data['ホーム'].map(lambda x : 'H' if x=='福岡' else 'A' )\n",
    "\n",
    "#勝ち点の設定\n",
    "def func_score(x):\n",
    "    if x.H_or_A == 'H':\n",
    "        if x.スコア[0] > x.スコア[-1]:\n",
    "            return 3\n",
    "        elif x.スコア[0] == x.スコア[-1]:\n",
    "            return 1\n",
    "        else:\n",
    "            return 0\n",
    "    else:\n",
    "        if x.スコア[0] < x.スコア[-1]:\n",
    "            return 3\n",
    "        elif x.スコア[0] == x.スコア[-1]:\n",
    "            return 1\n",
    "        else:\n",
    "            return 0\n",
    "\n",
    "F_game_data['勝ち点'] = F_game_data.apply(lambda x:func_score(x),axis=1)\n",
    "\n",
    "#試合月の設定\n",
    "F_game_data['試合月'] = F_game_data['試合日'].map(lambda x : str(x)[:2]).astype(int)\n",
    "\n",
    "#K/O時間を朝、昼、夜に設定\n",
    "F_game_data = F_game_data.rename(columns={'K/O時刻':'K_O_時刻'})\n",
    "F_game_data['K_O_時刻'] = F_game_data['K_O_時刻'].str[:2].astype(int)\n",
    "\n",
    "def func_time(x):\n",
    "    if x.K_O_時刻 < 16:\n",
    "        return '昼'\n",
    "    elif x.K_O_時刻 >= 16:\n",
    "        return '夜'\n",
    "    else:\n",
    "        return '朝'\n",
    "\n",
    "F_game_data['K_O_時間帯'] = F_game_data.apply(lambda x:func_time(x),axis=1)\n",
    "\n",
    "#対戦相手の設定\n",
    "F_game_data['対戦相手'] = pd.concat([F_game_data[~(F_game_data['アウェイ']=='福岡')]['アウェイ'].dropna(),F_game_data[~(F_game_data['ホーム']=='福岡')]['ホーム'].dropna()])\n",
    "\n",
    "#NaN値の削除\n",
    "F_game_data = F_game_data.dropna(how='any')\n",
    "\n",
    "#いらない行の削除\n",
    "F_game_data = F_game_data.drop(['節','試合日','K_O_時刻','ホーム','スコア','アウェイ','インターネット中継・TV放送','スタジアム'],axis=1)\n",
    "F_game_data_d = pd.get_dummies(F_game_data)"
   ]
  },
  {
   "cell_type": "markdown",
   "id": "described-zoning",
   "metadata": {},
   "source": [
    "# 4.モデルの構築"
   ]
  },
  {
   "cell_type": "code",
   "execution_count": 95,
   "id": "chemical-profile",
   "metadata": {},
   "outputs": [],
   "source": [
    "import numpy as np\n",
    "import pandas as pd\n",
    "from sklearn.linear_model import LogisticRegression\n",
    "from sklearn.model_selection import train_test_split\n",
    "from sklearn import metrics\n",
    "from imblearn.under_sampling import RandomUnderSampler\n",
    "from imblearn.over_sampling import SMOTE\n",
    "\n",
    "#train用データとtest用データに分割\n",
    "x = F_game_data_d.drop('勝ち点',axis=1)\n",
    "y = F_game_data_d['勝ち点']\n",
    "\n",
    "x_train,x_test,y_train,y_test = train_test_split(x,y,stratify=y,test_size=0.5,random_state=0)\n",
    "\n",
    "#ロジスティック回帰\n",
    "model = LogisticRegression()\n",
    "model.fit(x_train,y_train)\n",
    "\n",
    "y_pred = model.predict(x_test)"
   ]
  },
  {
   "cell_type": "markdown",
   "id": "smart-sheffield",
   "metadata": {},
   "source": [
    "# 5.モデル評価"
   ]
  },
  {
   "cell_type": "code",
   "execution_count": 148,
   "id": "classified-sleeping",
   "metadata": {},
   "outputs": [
    {
     "name": "stdout",
     "output_type": "stream",
     "text": [
      "正解率:0.49557522123893805\n",
      "適合率:0.48442702219859884\n",
      "再現率:0.4394033035986494\n",
      "f1値:0.41059643554709685\n"
     ]
    },
    {
     "data": {
      "text/html": [
       "<div>\n",
       "<style scoped>\n",
       "    .dataframe tbody tr th:only-of-type {\n",
       "        vertical-align: middle;\n",
       "    }\n",
       "\n",
       "    .dataframe tbody tr th {\n",
       "        vertical-align: top;\n",
       "    }\n",
       "\n",
       "    .dataframe thead tr th {\n",
       "        text-align: left;\n",
       "    }\n",
       "</style>\n",
       "<table border=\"1\" class=\"dataframe\">\n",
       "  <thead>\n",
       "    <tr>\n",
       "      <th></th>\n",
       "      <th></th>\n",
       "      <th colspan=\"3\" halign=\"left\">正解データ_勝ち点</th>\n",
       "    </tr>\n",
       "    <tr>\n",
       "      <th></th>\n",
       "      <th></th>\n",
       "      <th>0</th>\n",
       "      <th>1</th>\n",
       "      <th>3</th>\n",
       "    </tr>\n",
       "  </thead>\n",
       "  <tbody>\n",
       "    <tr>\n",
       "      <th rowspan=\"3\" valign=\"top\">予測データ_勝ち点</th>\n",
       "      <th>0</th>\n",
       "      <td>93</td>\n",
       "      <td>33</td>\n",
       "      <td>47</td>\n",
       "    </tr>\n",
       "    <tr>\n",
       "      <th>1</th>\n",
       "      <td>8</td>\n",
       "      <td>8</td>\n",
       "      <td>2</td>\n",
       "    </tr>\n",
       "    <tr>\n",
       "      <th>3</th>\n",
       "      <td>76</td>\n",
       "      <td>62</td>\n",
       "      <td>123</td>\n",
       "    </tr>\n",
       "  </tbody>\n",
       "</table>\n",
       "</div>"
      ],
      "text/plain": [
       "            正解データ_勝ち点         \n",
       "                    0   1    3\n",
       "予測データ_勝ち点 0        93  33   47\n",
       "          1         8   8    2\n",
       "          3        76  62  123"
      ]
     },
     "execution_count": 148,
     "metadata": {},
     "output_type": "execute_result"
    }
   ],
   "source": [
    "#混合行列の作成\n",
    "data_cm = metrics.confusion_matrix(y_pred,y_test)\n",
    "\n",
    "def make_cm(matrix,columns): #confusion_matrixにラベルをつける関数の作成\n",
    "    n = len(columns)\n",
    "    act = ['正解データ_勝ち点']*n \n",
    "    pred = ['予測データ_勝ち点']*n\n",
    "    \n",
    "    cm_df = pd.DataFrame(matrix,columns=[act,columns],index=[pred,columns])\n",
    "    return cm_df\n",
    "\n",
    "#混合行列\n",
    "data_cm2 = make_cm(data_cm,[0,1,3])\n",
    "\n",
    "#各評価指標\n",
    "print('正解率:' + str(metrics.accuracy_score(y_test,y_pred)))\n",
    "print('適合率:' + str(metrics.precision_score(y_test,y_pred,average='macro')))\n",
    "print('再現率:' + str(metrics.recall_score(y_test,y_pred,average='macro')))\n",
    "print('f1値:' + str(metrics.f1_score(y_test,y_pred,average='macro')))\n",
    "\n",
    "#各勝ち点になる確率の表示\n",
    "proba_df = pd.DataFrame(model.predict_proba(x_test),columns=['勝ち点_0','勝ち点_1','勝ち点_3'],index=x_test.index)\n",
    "\n",
    "#各偏回帰係数\n",
    "coefs_0 = pd.Series(model.coef_[0],index=x.columns).sort_values()\n",
    "coefs_1 = pd.Series(model.coef_[1],index=x.columns).sort_values()\n",
    "coefs_3 = pd.Series(model.coef_[2],index=x.columns).sort_values()\n",
    "\n",
    "data_cm2"
   ]
  },
  {
   "cell_type": "markdown",
   "id": "advance-female",
   "metadata": {},
   "source": [
    "# 6.まとめ"
   ]
  },
  {
   "cell_type": "markdown",
   "id": "danish-courage",
   "metadata": {},
   "source": [
    "・本ノートブックでは、jリーグに所属するプロサッカーチームであるアビスパ福岡の勝ち点（3:勝ち,1:引き分け,0:負け）を、  \n",
    "　目的変数（試合年度、大会、ホームorアウェイ、試合月、キックオフの時間帯、対戦相手）から予測するモデルの構築を行いました。\n",
    "\n",
    "・正解率は約50%であり精度はあまり良くないが、勝敗にはJ1かJ2ではないか、キックオフの時間帯が関係していることがわかった。"
   ]
  }
 ],
 "metadata": {
  "kernelspec": {
   "display_name": "Python 3",
   "language": "python",
   "name": "python3"
  },
  "language_info": {
   "codemirror_mode": {
    "name": "ipython",
    "version": 3
   },
   "file_extension": ".py",
   "mimetype": "text/x-python",
   "name": "python",
   "nbconvert_exporter": "python",
   "pygments_lexer": "ipython3",
   "version": "3.9.1"
  }
 },
 "nbformat": 4,
 "nbformat_minor": 5
}
